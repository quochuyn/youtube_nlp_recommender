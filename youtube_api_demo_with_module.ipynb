{
 "cells": [
  {
   "cell_type": "code",
   "execution_count": 1,
   "metadata": {},
   "outputs": [],
   "source": [
    "# data science\n",
    "import numpy as np\n",
    "import pandas as pd\n",
    "\n",
    "from youtube.get_youtube_data import get_youtube_api_key, make_client, search_youtube"
   ]
  },
  {
   "cell_type": "code",
   "execution_count": 2,
   "metadata": {},
   "outputs": [],
   "source": [
    "# Step 1. Get the youtube API key. For now we can just grab 1, but in the future\n",
    "#         we will need to obtain a list of API keys due to the high quota cost of\n",
    "#         performing a youtube search.\n",
    "YOUTUBE_API_KEY = get_youtube_api_key()\n",
    "# YOUTUBE_API_KEYS = get_youtube_data.get_youtube_api_key_list()"
   ]
  },
  {
   "cell_type": "code",
   "execution_count": 3,
   "metadata": {},
   "outputs": [],
   "source": [
    "# Step 2. Build the youtube client to make API calls.\n",
    "youtube = make_client(YOUTUBE_API_KEY)"
   ]
  },
  {
   "cell_type": "code",
   "execution_count": 4,
   "metadata": {},
   "outputs": [
    {
     "name": "stdout",
     "output_type": "stream",
     "text": [
      "input query  bossa nova\n"
     ]
    }
   ],
   "source": [
    "# Step 3. Perform a youtube search with a user-specified query.\n",
    "youtube_df = search_youtube(\n",
    "    youtube,\n",
    "    query='bossa nova',\n",
    "    max_vids=50,        # youtube accepts 50 as the max value\n",
    "    order='relevance'   # default is relevance\n",
    ")"
   ]
  },
  {
   "cell_type": "code",
   "execution_count": 5,
   "metadata": {},
   "outputs": [
    {
     "data": {
      "text/html": [
       "<div>\n",
       "<style scoped>\n",
       "    .dataframe tbody tr th:only-of-type {\n",
       "        vertical-align: middle;\n",
       "    }\n",
       "\n",
       "    .dataframe tbody tr th {\n",
       "        vertical-align: top;\n",
       "    }\n",
       "\n",
       "    .dataframe thead th {\n",
       "        text-align: right;\n",
       "    }\n",
       "</style>\n",
       "<table border=\"1\" class=\"dataframe\">\n",
       "  <thead>\n",
       "    <tr style=\"text-align: right;\">\n",
       "      <th></th>\n",
       "      <th>video_id</th>\n",
       "      <th>published_at</th>\n",
       "      <th>channel_id</th>\n",
       "      <th>title</th>\n",
       "      <th>description</th>\n",
       "      <th>channel_title</th>\n",
       "      <th>thumbnail_default_url</th>\n",
       "      <th>thumbnail_medium_url</th>\n",
       "      <th>thumbnail_high_url</th>\n",
       "    </tr>\n",
       "  </thead>\n",
       "  <tbody>\n",
       "    <tr>\n",
       "      <th>27</th>\n",
       "      <td>_iXhFqBlpcU</td>\n",
       "      <td>2023-02-15T11:44:39Z</td>\n",
       "      <td>UCyKs4L4EULCfySbTybA9bAg</td>\n",
       "      <td>BOSSA NOVA BEACH - IBIZA TOUR ⛱️ 🎵</td>\n",
       "      <td>Subscribe to our channel! ❤️ http://bit.ly/MB-...</td>\n",
       "      <td>Music Brokers</td>\n",
       "      <td>https://i.ytimg.com/vi/_iXhFqBlpcU/default.jpg</td>\n",
       "      <td>https://i.ytimg.com/vi/_iXhFqBlpcU/mqdefault.jpg</td>\n",
       "      <td>https://i.ytimg.com/vi/_iXhFqBlpcU/hqdefault.jpg</td>\n",
       "    </tr>\n",
       "    <tr>\n",
       "      <th>24</th>\n",
       "      <td>6HQpGcvnHB4</td>\n",
       "      <td>2023-06-27T05:29:36Z</td>\n",
       "      <td>UCk_gmZ_mD-zlacoAnNWO0SQ</td>\n",
       "      <td>Positive Bossa Nova Jazz Music with Sunset Caf...</td>\n",
       "      <td>Welcome to our channel, where you can find gre...</td>\n",
       "      <td>Little love soul</td>\n",
       "      <td>https://i.ytimg.com/vi/6HQpGcvnHB4/default.jpg</td>\n",
       "      <td>https://i.ytimg.com/vi/6HQpGcvnHB4/mqdefault.jpg</td>\n",
       "      <td>https://i.ytimg.com/vi/6HQpGcvnHB4/hqdefault.jpg</td>\n",
       "    </tr>\n",
       "    <tr>\n",
       "      <th>32</th>\n",
       "      <td>eW8Fmoo_iPo</td>\n",
       "      <td>2023-03-22T19:49:55Z</td>\n",
       "      <td>UC4nFOHXlhPs1p2Y3FeNvRCw</td>\n",
       "      <td>Fresh Bossa Nova Jazz | 🍸</td>\n",
       "      <td>I hope this calms your morning and sets you up...</td>\n",
       "      <td>b r o w n s t u d y</td>\n",
       "      <td>https://i.ytimg.com/vi/eW8Fmoo_iPo/default.jpg</td>\n",
       "      <td>https://i.ytimg.com/vi/eW8Fmoo_iPo/mqdefault.jpg</td>\n",
       "      <td>https://i.ytimg.com/vi/eW8Fmoo_iPo/hqdefault.jpg</td>\n",
       "    </tr>\n",
       "    <tr>\n",
       "      <th>11</th>\n",
       "      <td>2lhxvpmldek</td>\n",
       "      <td>2014-11-04T02:51:08Z</td>\n",
       "      <td>UCpkErdyL4hzz8cILJOc6JoA</td>\n",
       "      <td>Sol De Bossa (bossa nova full album)</td>\n",
       "      <td>2012 Rambling Records 1. Garota de Ipanema (イパ...</td>\n",
       "      <td>bossanova diletant</td>\n",
       "      <td>https://i.ytimg.com/vi/2lhxvpmldek/default.jpg</td>\n",
       "      <td>https://i.ytimg.com/vi/2lhxvpmldek/mqdefault.jpg</td>\n",
       "      <td>https://i.ytimg.com/vi/2lhxvpmldek/hqdefault.jpg</td>\n",
       "    </tr>\n",
       "    <tr>\n",
       "      <th>34</th>\n",
       "      <td>HfTilOmpke8</td>\n",
       "      <td>2021-05-08T12:00:15Z</td>\n",
       "      <td>UC7bX_RrH3zbdp5V4j5umGgw</td>\n",
       "      <td>Relax Music - Tropical Night Bossa Nova - Smoo...</td>\n",
       "      <td>Thank you for listening! Join Us Everywhere Do...</td>\n",
       "      <td>Relax Music</td>\n",
       "      <td>https://i.ytimg.com/vi/HfTilOmpke8/default.jpg</td>\n",
       "      <td>https://i.ytimg.com/vi/HfTilOmpke8/mqdefault.jpg</td>\n",
       "      <td>https://i.ytimg.com/vi/HfTilOmpke8/hqdefault.jpg</td>\n",
       "    </tr>\n",
       "  </tbody>\n",
       "</table>\n",
       "</div>"
      ],
      "text/plain": [
       "       video_id          published_at                channel_id  \\\n",
       "27  _iXhFqBlpcU  2023-02-15T11:44:39Z  UCyKs4L4EULCfySbTybA9bAg   \n",
       "24  6HQpGcvnHB4  2023-06-27T05:29:36Z  UCk_gmZ_mD-zlacoAnNWO0SQ   \n",
       "32  eW8Fmoo_iPo  2023-03-22T19:49:55Z  UC4nFOHXlhPs1p2Y3FeNvRCw   \n",
       "11  2lhxvpmldek  2014-11-04T02:51:08Z  UCpkErdyL4hzz8cILJOc6JoA   \n",
       "34  HfTilOmpke8  2021-05-08T12:00:15Z  UC7bX_RrH3zbdp5V4j5umGgw   \n",
       "\n",
       "                                                title  \\\n",
       "27                 BOSSA NOVA BEACH - IBIZA TOUR ⛱️ 🎵   \n",
       "24  Positive Bossa Nova Jazz Music with Sunset Caf...   \n",
       "32                          Fresh Bossa Nova Jazz | 🍸   \n",
       "11               Sol De Bossa (bossa nova full album)   \n",
       "34  Relax Music - Tropical Night Bossa Nova - Smoo...   \n",
       "\n",
       "                                          description          channel_title  \\\n",
       "27  Subscribe to our channel! ❤️ http://bit.ly/MB-...          Music Brokers   \n",
       "24  Welcome to our channel, where you can find gre...       Little love soul   \n",
       "32  I hope this calms your morning and sets you up...  b r o w n s t u d y     \n",
       "11  2012 Rambling Records 1. Garota de Ipanema (イパ...     bossanova diletant   \n",
       "34  Thank you for listening! Join Us Everywhere Do...            Relax Music   \n",
       "\n",
       "                             thumbnail_default_url  \\\n",
       "27  https://i.ytimg.com/vi/_iXhFqBlpcU/default.jpg   \n",
       "24  https://i.ytimg.com/vi/6HQpGcvnHB4/default.jpg   \n",
       "32  https://i.ytimg.com/vi/eW8Fmoo_iPo/default.jpg   \n",
       "11  https://i.ytimg.com/vi/2lhxvpmldek/default.jpg   \n",
       "34  https://i.ytimg.com/vi/HfTilOmpke8/default.jpg   \n",
       "\n",
       "                                thumbnail_medium_url  \\\n",
       "27  https://i.ytimg.com/vi/_iXhFqBlpcU/mqdefault.jpg   \n",
       "24  https://i.ytimg.com/vi/6HQpGcvnHB4/mqdefault.jpg   \n",
       "32  https://i.ytimg.com/vi/eW8Fmoo_iPo/mqdefault.jpg   \n",
       "11  https://i.ytimg.com/vi/2lhxvpmldek/mqdefault.jpg   \n",
       "34  https://i.ytimg.com/vi/HfTilOmpke8/mqdefault.jpg   \n",
       "\n",
       "                                  thumbnail_high_url  \n",
       "27  https://i.ytimg.com/vi/_iXhFqBlpcU/hqdefault.jpg  \n",
       "24  https://i.ytimg.com/vi/6HQpGcvnHB4/hqdefault.jpg  \n",
       "32  https://i.ytimg.com/vi/eW8Fmoo_iPo/hqdefault.jpg  \n",
       "11  https://i.ytimg.com/vi/2lhxvpmldek/hqdefault.jpg  \n",
       "34  https://i.ytimg.com/vi/HfTilOmpke8/hqdefault.jpg  "
      ]
     },
     "execution_count": 5,
     "metadata": {},
     "output_type": "execute_result"
    }
   ],
   "source": [
    "youtube_df.sample(5)"
   ]
  },
  {
   "cell_type": "code",
   "execution_count": null,
   "metadata": {},
   "outputs": [],
   "source": []
  }
 ],
 "metadata": {
  "kernelspec": {
   "display_name": "smartinvest",
   "language": "python",
   "name": "smartinvest"
  },
  "language_info": {
   "codemirror_mode": {
    "name": "ipython",
    "version": 3
   },
   "file_extension": ".py",
   "mimetype": "text/x-python",
   "name": "python",
   "nbconvert_exporter": "python",
   "pygments_lexer": "ipython3",
   "version": "3.10.8"
  }
 },
 "nbformat": 4,
 "nbformat_minor": 2
}
