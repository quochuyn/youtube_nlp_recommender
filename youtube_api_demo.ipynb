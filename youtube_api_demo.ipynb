{
 "cells": [
  {
   "cell_type": "markdown",
   "metadata": {},
   "source": [
    "# Youtube API Demo"
   ]
  },
  {
   "cell_type": "markdown",
   "metadata": {},
   "source": [
    "This notebook details a local demonstration on how to use the Youtube API to search for videos and filter them based on a natural language query."
   ]
  },
  {
   "cell_type": "code",
   "execution_count": 1,
   "metadata": {},
   "outputs": [
    {
     "name": "stderr",
     "output_type": "stream",
     "text": [
      "c:\\Users\\mrquo\\anaconda3\\envs\\yt\\lib\\site-packages\\tqdm\\auto.py:21: TqdmWarning: IProgress not found. Please update jupyter and ipywidgets. See https://ipywidgets.readthedocs.io/en/stable/user_install.html\n",
      "  from .autonotebook import tqdm as notebook_tqdm\n"
     ]
    }
   ],
   "source": [
    "# data science\n",
    "import numpy as np\n",
    "import pandas as pd\n",
    "\n",
    "import joblib\n",
    "from time import perf_counter\n",
    "from sentence_transformers import SentenceTransformer\n",
    "\n",
    "import youtube.get_youtube_data as get_youtube_data\n",
    "import machine_learning.embedding as embedding\n",
    "import save_dislikes.sentiment as sentiment"
   ]
  },
  {
   "cell_type": "markdown",
   "metadata": {},
   "source": [
    "You will have to write your own `youtube/secrets.toml` file containing your own Youtube API key if you wish to use our custom function. Otherwise, you can simply set the `YOUTUBE_API_KEY` to your key as a string."
   ]
  },
  {
   "cell_type": "code",
   "execution_count": 2,
   "metadata": {},
   "outputs": [],
   "source": [
    "# Step 1. Get the Youtube API key. The Youtube API key created in Google Cloud by following the instructions on\n",
    "#         the API overview page: https://developers.google.com/youtube/v3/getting-started\n",
    "YOUTUBE_API_KEY = get_youtube_data.get_youtube_api_key()"
   ]
  },
  {
   "cell_type": "code",
   "execution_count": 3,
   "metadata": {},
   "outputs": [],
   "source": [
    "# Step 2. Build the Youtube client to make API calls.\n",
    "youtube = get_youtube_data.make_client(YOUTUBE_API_KEY)"
   ]
  },
  {
   "cell_type": "markdown",
   "metadata": {},
   "source": [
    "Go ahead and specify a desired query. Note that to include the comments or transcripts, each method takes a considerable amount of time even for a few number of videos. Currently our 2 filter layers (1) Save the Dislikes and (2) BERT cosine similarity, do not require anything other than the titles. This may change in the future."
   ]
  },
  {
   "cell_type": "code",
   "execution_count": 4,
   "metadata": {},
   "outputs": [
    {
     "name": "stdout",
     "output_type": "stream",
     "text": [
      "Searching for: Patrick Bet David\n",
      "Returning 15 results\n"
     ]
    }
   ],
   "source": [
    "# Step 3. Perform a Youtube search with a user-specified query.\n",
    "youtube_df = get_youtube_data.search_youtube(\n",
    "    youtube,\n",
    "    query='Patrick Bet David',\n",
    "    max_vids=15,       # only grab at most 50 to reduce quota usage\n",
    "    order='relevance', # default is relevance\n",
    "    comments=True,\n",
    "    max_comments=20,   # only grab at most 100 to reduce quota usage\n",
    "    transcripts=True,\n",
    ")"
   ]
  },
  {
   "cell_type": "code",
   "execution_count": 5,
   "metadata": {},
   "outputs": [
    {
     "name": "stdout",
     "output_type": "stream",
     "text": [
      "<class 'pandas.core.frame.DataFrame'>\n",
      "RangeIndex: 15 entries, 0 to 14\n",
      "Data columns (total 24 columns):\n",
      " #   Column                  Non-Null Count  Dtype  \n",
      "---  ------                  --------------  -----  \n",
      " 0   video_id                15 non-null     object \n",
      " 1   published_at            15 non-null     object \n",
      " 2   channel_id              15 non-null     object \n",
      " 3   title                   15 non-null     object \n",
      " 4   description             15 non-null     object \n",
      " 5   channel_title           15 non-null     object \n",
      " 6   live_broadcast_content  15 non-null     object \n",
      " 7   thumbnail_default_url   15 non-null     object \n",
      " 8   thumbnail_medium_url    15 non-null     object \n",
      " 9   thumbnail_high_url      15 non-null     object \n",
      " 10  comments                15 non-null     object \n",
      " 11  thumbnail_standard_url  15 non-null     object \n",
      " 12  thumbnail_maxres_url    14 non-null     object \n",
      " 13  tags                    14 non-null     object \n",
      " 14  video_category_id       15 non-null     int64  \n",
      " 15  video_duration          15 non-null     float64\n",
      " 16  video_caption           15 non-null     bool   \n",
      " 17  video_view_count        15 non-null     float64\n",
      " 18  video_like_count        15 non-null     float64\n",
      " 19  video_comment_count     15 non-null     float64\n",
      " 20  is_comments_enabled     15 non-null     int64  \n",
      " 21  is_live_content         15 non-null     int64  \n",
      " 22  NoCommentsBinary        15 non-null     int64  \n",
      " 23  transcript              15 non-null     object \n",
      "dtypes: bool(1), float64(4), int64(4), object(15)\n",
      "memory usage: 2.8+ KB\n"
     ]
    }
   ],
   "source": [
    "# Let's check the columns in the Youtube DataFrame\n",
    "youtube_df.info()"
   ]
  },
  {
   "cell_type": "code",
   "execution_count": 6,
   "metadata": {},
   "outputs": [
    {
     "data": {
      "text/html": [
       "<div>\n",
       "<style scoped>\n",
       "    .dataframe tbody tr th:only-of-type {\n",
       "        vertical-align: middle;\n",
       "    }\n",
       "\n",
       "    .dataframe tbody tr th {\n",
       "        vertical-align: top;\n",
       "    }\n",
       "\n",
       "    .dataframe thead th {\n",
       "        text-align: right;\n",
       "    }\n",
       "</style>\n",
       "<table border=\"1\" class=\"dataframe\">\n",
       "  <thead>\n",
       "    <tr style=\"text-align: right;\">\n",
       "      <th></th>\n",
       "      <th>video_id</th>\n",
       "      <th>published_at</th>\n",
       "      <th>channel_id</th>\n",
       "      <th>title</th>\n",
       "      <th>description</th>\n",
       "      <th>channel_title</th>\n",
       "      <th>live_broadcast_content</th>\n",
       "      <th>thumbnail_default_url</th>\n",
       "      <th>thumbnail_medium_url</th>\n",
       "      <th>thumbnail_high_url</th>\n",
       "      <th>...</th>\n",
       "      <th>video_category_id</th>\n",
       "      <th>video_duration</th>\n",
       "      <th>video_caption</th>\n",
       "      <th>video_view_count</th>\n",
       "      <th>video_like_count</th>\n",
       "      <th>video_comment_count</th>\n",
       "      <th>is_comments_enabled</th>\n",
       "      <th>is_live_content</th>\n",
       "      <th>NoCommentsBinary</th>\n",
       "      <th>transcript</th>\n",
       "    </tr>\n",
       "  </thead>\n",
       "  <tbody>\n",
       "    <tr>\n",
       "      <th>0</th>\n",
       "      <td>QnAOUMB-BjE</td>\n",
       "      <td>2023-08-05T01:08:35Z</td>\n",
       "      <td>UCGX7nGXpz-CmO_Arg-cgJ7A</td>\n",
       "      <td>Vivek Ramaswamy Town Hall | PBD Podcast</td>\n",
       "      <td>For the first time, the PBD Podcast will host ...</td>\n",
       "      <td>PBD Podcast</td>\n",
       "      <td>none</td>\n",
       "      <td>https://i.ytimg.com/vi/QnAOUMB-BjE/default.jpg</td>\n",
       "      <td>https://i.ytimg.com/vi/QnAOUMB-BjE/mqdefault.jpg</td>\n",
       "      <td>https://i.ytimg.com/vi/QnAOUMB-BjE/hqdefault.jpg</td>\n",
       "      <td>...</td>\n",
       "      <td>24</td>\n",
       "      <td>5617.0</td>\n",
       "      <td>False</td>\n",
       "      <td>701598.0</td>\n",
       "      <td>33719.0</td>\n",
       "      <td>6511.0</td>\n",
       "      <td>1</td>\n",
       "      <td>0</td>\n",
       "      <td>0</td>\n",
       "      <td>homie look what I become all right buddy Make ...</td>\n",
       "    </tr>\n",
       "    <tr>\n",
       "      <th>5</th>\n",
       "      <td>VWh0imOe3U4</td>\n",
       "      <td>2023-07-28T03:24:29Z</td>\n",
       "      <td>UCaJiHWcjkaZRpwP_PEXCT5Q</td>\n",
       "      <td>Patrick Bet-David Converts to Christianity #ch...</td>\n",
       "      <td></td>\n",
       "      <td>Lila Rose</td>\n",
       "      <td>none</td>\n",
       "      <td>https://i.ytimg.com/vi/VWh0imOe3U4/default.jpg</td>\n",
       "      <td>https://i.ytimg.com/vi/VWh0imOe3U4/mqdefault.jpg</td>\n",
       "      <td>https://i.ytimg.com/vi/VWh0imOe3U4/hqdefault.jpg</td>\n",
       "      <td>...</td>\n",
       "      <td>22</td>\n",
       "      <td>60.0</td>\n",
       "      <td>False</td>\n",
       "      <td>38240.0</td>\n",
       "      <td>2632.0</td>\n",
       "      <td>73.0</td>\n",
       "      <td>1</td>\n",
       "      <td>0</td>\n",
       "      <td>0</td>\n",
       "      <td>the 22 year old Pat didn't believe in monogamy...</td>\n",
       "    </tr>\n",
       "    <tr>\n",
       "      <th>3</th>\n",
       "      <td>M4LJArRl67g</td>\n",
       "      <td>2023-08-05T01:15:07Z</td>\n",
       "      <td>UCIHdDJ0tjn_3j-FS7s_X1kQ</td>\n",
       "      <td>&amp;quot;They Won&amp;#39;t Let Biden Run&amp;quot; - Viv...</td>\n",
       "      <td>For the first time, PBD Podcast hosts a Town H...</td>\n",
       "      <td>Valuetainment</td>\n",
       "      <td>none</td>\n",
       "      <td>https://i.ytimg.com/vi/M4LJArRl67g/default.jpg</td>\n",
       "      <td>https://i.ytimg.com/vi/M4LJArRl67g/mqdefault.jpg</td>\n",
       "      <td>https://i.ytimg.com/vi/M4LJArRl67g/hqdefault.jpg</td>\n",
       "      <td>...</td>\n",
       "      <td>27</td>\n",
       "      <td>232.0</td>\n",
       "      <td>False</td>\n",
       "      <td>87952.0</td>\n",
       "      <td>2191.0</td>\n",
       "      <td>501.0</td>\n",
       "      <td>1</td>\n",
       "      <td>0</td>\n",
       "      <td>0</td>\n",
       "      <td>the santis and Newsome okay announcing that th...</td>\n",
       "    </tr>\n",
       "    <tr>\n",
       "      <th>14</th>\n",
       "      <td>_pDcMKlBkh8</td>\n",
       "      <td>2023-04-25T23:00:13Z</td>\n",
       "      <td>UCIHdDJ0tjn_3j-FS7s_X1kQ</td>\n",
       "      <td>Emotional Story On How PBD Earned $30 Million</td>\n",
       "      <td>shorts #short #valuetainment #patrickbetdavid.</td>\n",
       "      <td>Valuetainment</td>\n",
       "      <td>none</td>\n",
       "      <td>https://i.ytimg.com/vi/_pDcMKlBkh8/default.jpg</td>\n",
       "      <td>https://i.ytimg.com/vi/_pDcMKlBkh8/mqdefault.jpg</td>\n",
       "      <td>https://i.ytimg.com/vi/_pDcMKlBkh8/hqdefault.jpg</td>\n",
       "      <td>...</td>\n",
       "      <td>27</td>\n",
       "      <td>59.0</td>\n",
       "      <td>False</td>\n",
       "      <td>334305.0</td>\n",
       "      <td>17860.0</td>\n",
       "      <td>127.0</td>\n",
       "      <td>1</td>\n",
       "      <td>0</td>\n",
       "      <td>0</td>\n",
       "      <td>I talked to Eli I said Eli how can I help you ...</td>\n",
       "    </tr>\n",
       "    <tr>\n",
       "      <th>7</th>\n",
       "      <td>N6asuGrBRpw</td>\n",
       "      <td>2023-08-05T01:48:07Z</td>\n",
       "      <td>UCIHdDJ0tjn_3j-FS7s_X1kQ</td>\n",
       "      <td>Vivek&amp;#39;s Gameplan to Drain the Swamp Better...</td>\n",
       "      <td>For the first time, PBD Podcast hosts a Town H...</td>\n",
       "      <td>Valuetainment</td>\n",
       "      <td>none</td>\n",
       "      <td>https://i.ytimg.com/vi/N6asuGrBRpw/default.jpg</td>\n",
       "      <td>https://i.ytimg.com/vi/N6asuGrBRpw/mqdefault.jpg</td>\n",
       "      <td>https://i.ytimg.com/vi/N6asuGrBRpw/hqdefault.jpg</td>\n",
       "      <td>...</td>\n",
       "      <td>27</td>\n",
       "      <td>364.0</td>\n",
       "      <td>False</td>\n",
       "      <td>119182.0</td>\n",
       "      <td>3577.0</td>\n",
       "      <td>1181.0</td>\n",
       "      <td>1</td>\n",
       "      <td>0</td>\n",
       "      <td>0</td>\n",
       "      <td>to follow up on that you know for you to say I...</td>\n",
       "    </tr>\n",
       "  </tbody>\n",
       "</table>\n",
       "<p>5 rows × 24 columns</p>\n",
       "</div>"
      ],
      "text/plain": [
       "       video_id          published_at                channel_id  \\\n",
       "0   QnAOUMB-BjE  2023-08-05T01:08:35Z  UCGX7nGXpz-CmO_Arg-cgJ7A   \n",
       "5   VWh0imOe3U4  2023-07-28T03:24:29Z  UCaJiHWcjkaZRpwP_PEXCT5Q   \n",
       "3   M4LJArRl67g  2023-08-05T01:15:07Z  UCIHdDJ0tjn_3j-FS7s_X1kQ   \n",
       "14  _pDcMKlBkh8  2023-04-25T23:00:13Z  UCIHdDJ0tjn_3j-FS7s_X1kQ   \n",
       "7   N6asuGrBRpw  2023-08-05T01:48:07Z  UCIHdDJ0tjn_3j-FS7s_X1kQ   \n",
       "\n",
       "                                                title  \\\n",
       "0             Vivek Ramaswamy Town Hall | PBD Podcast   \n",
       "5   Patrick Bet-David Converts to Christianity #ch...   \n",
       "3   &quot;They Won&#39;t Let Biden Run&quot; - Viv...   \n",
       "14      Emotional Story On How PBD Earned $30 Million   \n",
       "7   Vivek&#39;s Gameplan to Drain the Swamp Better...   \n",
       "\n",
       "                                          description  channel_title  \\\n",
       "0   For the first time, the PBD Podcast will host ...    PBD Podcast   \n",
       "5                                                          Lila Rose   \n",
       "3   For the first time, PBD Podcast hosts a Town H...  Valuetainment   \n",
       "14     shorts #short #valuetainment #patrickbetdavid.  Valuetainment   \n",
       "7   For the first time, PBD Podcast hosts a Town H...  Valuetainment   \n",
       "\n",
       "   live_broadcast_content                           thumbnail_default_url  \\\n",
       "0                    none  https://i.ytimg.com/vi/QnAOUMB-BjE/default.jpg   \n",
       "5                    none  https://i.ytimg.com/vi/VWh0imOe3U4/default.jpg   \n",
       "3                    none  https://i.ytimg.com/vi/M4LJArRl67g/default.jpg   \n",
       "14                   none  https://i.ytimg.com/vi/_pDcMKlBkh8/default.jpg   \n",
       "7                    none  https://i.ytimg.com/vi/N6asuGrBRpw/default.jpg   \n",
       "\n",
       "                                thumbnail_medium_url  \\\n",
       "0   https://i.ytimg.com/vi/QnAOUMB-BjE/mqdefault.jpg   \n",
       "5   https://i.ytimg.com/vi/VWh0imOe3U4/mqdefault.jpg   \n",
       "3   https://i.ytimg.com/vi/M4LJArRl67g/mqdefault.jpg   \n",
       "14  https://i.ytimg.com/vi/_pDcMKlBkh8/mqdefault.jpg   \n",
       "7   https://i.ytimg.com/vi/N6asuGrBRpw/mqdefault.jpg   \n",
       "\n",
       "                                  thumbnail_high_url  ... video_category_id  \\\n",
       "0   https://i.ytimg.com/vi/QnAOUMB-BjE/hqdefault.jpg  ...                24   \n",
       "5   https://i.ytimg.com/vi/VWh0imOe3U4/hqdefault.jpg  ...                22   \n",
       "3   https://i.ytimg.com/vi/M4LJArRl67g/hqdefault.jpg  ...                27   \n",
       "14  https://i.ytimg.com/vi/_pDcMKlBkh8/hqdefault.jpg  ...                27   \n",
       "7   https://i.ytimg.com/vi/N6asuGrBRpw/hqdefault.jpg  ...                27   \n",
       "\n",
       "   video_duration video_caption video_view_count  video_like_count  \\\n",
       "0          5617.0         False         701598.0           33719.0   \n",
       "5            60.0         False          38240.0            2632.0   \n",
       "3           232.0         False          87952.0            2191.0   \n",
       "14           59.0         False         334305.0           17860.0   \n",
       "7           364.0         False         119182.0            3577.0   \n",
       "\n",
       "    video_comment_count  is_comments_enabled  is_live_content  \\\n",
       "0                6511.0                    1                0   \n",
       "5                  73.0                    1                0   \n",
       "3                 501.0                    1                0   \n",
       "14                127.0                    1                0   \n",
       "7                1181.0                    1                0   \n",
       "\n",
       "    NoCommentsBinary                                         transcript  \n",
       "0                  0  homie look what I become all right buddy Make ...  \n",
       "5                  0  the 22 year old Pat didn't believe in monogamy...  \n",
       "3                  0  the santis and Newsome okay announcing that th...  \n",
       "14                 0  I talked to Eli I said Eli how can I help you ...  \n",
       "7                  0  to follow up on that you know for you to say I...  \n",
       "\n",
       "[5 rows x 24 columns]"
      ]
     },
     "execution_count": 6,
     "metadata": {},
     "output_type": "execute_result"
    }
   ],
   "source": [
    "# Let's check a few rows.\n",
    "youtube_df.sample(5)"
   ]
  },
  {
   "cell_type": "markdown",
   "metadata": {},
   "source": [
    "We have adapted the Save the Dislikes model to either `sort_by_sentiment` or `filter_by_sentiment`. Here, we simply use the sorting method to push negative (-1) videos to the end of the queue."
   ]
  },
  {
   "cell_type": "code",
   "execution_count": 7,
   "metadata": {},
   "outputs": [
    {
     "name": "stdout",
     "output_type": "stream",
     "text": [
      "Loading model...\n",
      "  Time taken to load model: 2.3307 seconds\n",
      "\n",
      "Making predictions...\n",
      "  Time taken to make predictions: 0.0184 seconds\n",
      "\n",
      "No negative videos found. No sorting occured.\n"
     ]
    }
   ],
   "source": [
    "print(\"Loading model...\")\n",
    "start_load_time = perf_counter()\n",
    "# Path to load the model\n",
    "model_pickle_path = 'save_dislikes/rfclf.joblib.pkl'\n",
    "rf_clf = joblib.load(model_pickle_path)\n",
    "print(f\"  Time taken to load model: {(perf_counter() - start_load_time):.4f} seconds\")\n",
    "print()\n",
    "\n",
    "youtube_df = sentiment.sort_by_sentiment(rf_clf, youtube_df)"
   ]
  },
  {
   "cell_type": "markdown",
   "metadata": {},
   "source": [
    "For the BERT cosine similarity filter layer, we run 2 examples: \n",
    "1. On a curated list of videos with several that are obviously (at least to us) political.\n",
    "2. On the Youtube video DataFrame."
   ]
  },
  {
   "cell_type": "code",
   "execution_count": 8,
   "metadata": {},
   "outputs": [],
   "source": [
    "# How to strikethrough text taken from this StackOverflow post:\n",
    "# https://stackoverflow.com/questions/25244454/python-create-strikethrough-strikeout-overstrike-string-type\n",
    "def strikethrough(text):\n",
    "    result = ''\n",
    "    for c in text:\n",
    "        result = result + '\\u0336' + c\n",
    "    return result\n",
    "\n",
    "def print_filter_results(before, after):\n",
    "    print(f\"Filter layer removed {len(before) - len(after)} videos. {len(after)} remaining.\")\n",
    "    print(\"-\" * 10)\n",
    "    for title in before:\n",
    "        if title not in after:\n",
    "            print(strikethrough(title))\n",
    "        else:\n",
    "            print(title)"
   ]
  },
  {
   "cell_type": "code",
   "execution_count": 9,
   "metadata": {},
   "outputs": [
    {
     "name": "stdout",
     "output_type": "stream",
     "text": [
      "Filter layer removed 4 videos. 2 remaining.\n",
      "----------\n",
      "̶W̶h̶o̶'̶s̶ ̶R̶e̶a̶l̶l̶y̶ ̶S̶u̶p̶p̶o̶r̶t̶i̶n̶g̶ ̶R̶u̶s̶s̶i̶a\n",
      "̶T̶h̶e̶ ̶P̶e̶r̶f̶e̶c̶t̶ ̶H̶i̶l̶l̶a̶r̶y̶ ̶C̶l̶i̶n̶t̶o̶n̶ ̶A̶n̶a̶l̶o̶g̶y\n",
      "̶T̶h̶e̶ ̶E̶v̶o̶l̶u̶t̶i̶o̶n̶ ̶o̶f̶ ̶A̶l̶e̶x̶ ̶J̶o̶n̶e̶s\n",
      "Patrick Bet David on The Breakfast Club\n",
      "̶T̶h̶e̶ ̶T̶r̶u̶t̶h̶ ̶A̶b̶o̶u̶t̶ ̶T̶h̶e̶ ̶2̶0̶2̶0̶ ̶E̶l̶e̶c̶t̶i̶o̶n\n",
      "Kobe Bryant's Last Great Interview\n"
     ]
    }
   ],
   "source": [
    "filter_sent = \"Politics\"\n",
    "list_of_videos = [\"Who's Really Supporting Russia\",\n",
    "                  \"The Perfect Hillary Clinton Analogy\",\n",
    "                  \"The Evolution of Alex Jones\",\n",
    "                  \"Patrick Bet David on The Breakfast Club\",\n",
    "                  \"The Truth About The 2020 Election\",\n",
    "                  \"Kobe Bryant's Last Great Interview\"]\n",
    "model = SentenceTransformer('sentence-transformers/all-MiniLM-L6-v2')\n",
    "filtered_list_of_videos = embedding.filter_out_embed(model,filter_sent,list_of_videos)\n",
    "\n",
    "print_filter_results(list_of_videos, filtered_list_of_videos)"
   ]
  },
  {
   "cell_type": "code",
   "execution_count": 10,
   "metadata": {},
   "outputs": [
    {
     "name": "stdout",
     "output_type": "stream",
     "text": [
      "Filter layer removed 2 videos. 13 remaining.\n",
      "----------\n",
      "Vivek Ramaswamy Town Hall | PBD Podcast\n",
      "Patrick Bet-David&#39;s Multi Millionaire Diet\n",
      "̶C̶e̶n̶k̶ ̶a̶n̶d̶ ̶P̶a̶t̶r̶i̶c̶k̶ ̶B̶e̶t̶-̶D̶a̶v̶i̶d̶ ̶D̶i̶s̶c̶u̶s̶s̶ ̶T̶r̶u̶m̶p̶&̶#̶3̶9̶;̶s̶ ̶C̶o̶r̶r̶u̶p̶t̶i̶o̶n\n",
      "&quot;They Won&#39;t Let Biden Run&quot; - Vivek Reacts to DeSantis &amp; Newsom Agreeing to Debate\n",
      "The Day I Became A NEW MAN - Emotional Story by Patrick Bet-David\n",
      "Patrick Bet-David Converts to Christianity #christianity #lilarose #valuetainment #patrickbetdavid\n",
      "Cenk Uygur  | PBD Podcast | Ep. 292\n",
      "Vivek&#39;s Gameplan to Drain the Swamp Better Than Trump Did\n",
      "Patrick Bet-David&#39;s Top 5 Books - MUST READS for Entrepreneurs!\n",
      "How Patrick Bet-David Raises His Children\n",
      "&quot;They Need to Step it up!&quot; - Can India Replace China?\n",
      "̶B̶i̶g̶g̶e̶s̶t̶ ̶P̶r̶e̶s̶i̶d̶e̶n̶t̶i̶a̶l̶ ̶U̶P̶S̶E̶T̶S̶ ̶-̶ ̶W̶h̶y̶ ̶T̶h̶e̶ ̶U̶n̶d̶e̶r̶d̶o̶g̶s̶ ̶A̶l̶m̶o̶s̶t̶ ̶A̶l̶w̶a̶y̶s̶ ̶W̶i̶n\n",
      "&quot;You Can&#39;t Say He&#39;s A ____&quot;: Cenk Blows PBD Podcasts&#39; Minds With Simple Statement About Trump\n",
      "Larry Fink: The Most Powerful Man On Wall Street\n",
      "Emotional Story On How PBD Earned $30 Million\n"
     ]
    }
   ],
   "source": [
    "titles = youtube_df['title'].tolist()\n",
    "filtered_titles = embedding.filter_out_embed(model,filter_sent,titles)\n",
    "\n",
    "print_filter_results(titles, filtered_titles)"
   ]
  }
 ],
 "metadata": {
  "kernelspec": {
   "display_name": "ml",
   "language": "python",
   "name": "python3"
  },
  "language_info": {
   "codemirror_mode": {
    "name": "ipython",
    "version": 3
   },
   "file_extension": ".py",
   "mimetype": "text/x-python",
   "name": "python",
   "nbconvert_exporter": "python",
   "pygments_lexer": "ipython3",
   "version": "3.9.17"
  }
 },
 "nbformat": 4,
 "nbformat_minor": 2
}
